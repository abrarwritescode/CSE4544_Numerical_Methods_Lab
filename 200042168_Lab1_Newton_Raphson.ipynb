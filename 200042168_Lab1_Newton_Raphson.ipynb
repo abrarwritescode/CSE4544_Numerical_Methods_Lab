{
  "nbformat": 4,
  "nbformat_minor": 0,
  "metadata": {
    "colab": {
      "provenance": []
    },
    "kernelspec": {
      "name": "python3",
      "display_name": "Python 3"
    },
    "language_info": {
      "name": "python"
    }
  },
  "cells": [
    {
      "cell_type": "code",
      "source": [
        "import numpy as np\n",
        "import matplotlib.pyplot as plt\n",
        "import random"
      ],
      "metadata": {
        "id": "aRDAOPGCpiq2"
      },
      "execution_count": null,
      "outputs": []
    },
    {
      "cell_type": "markdown",
      "source": [
        "# **Newton-Raphson method**\n",
        "The Newton-Raphson method is a method of finding roots of a nonlinear function. Unlike the Bisection method, it falls under the category of **Open methods** due to the fact that we only need one initial guess that does not have to bracket the actual root."
      ],
      "metadata": {
        "id": "_4rx97Vhl6bB"
      }
    },
    {
      "cell_type": "markdown",
      "source": [
        "In today's lab, we will be implementing the Newton-Raphson method in python. We will be considering the function $f(x)$ as an array of coefficients, for instance if we want to have $f(x) = x^3+x-2$, then in python we will create an array as follows:"
      ],
      "metadata": {
        "id": "GOzrtUJtmGyd"
      }
    },
    {
      "cell_type": "code",
      "execution_count": null,
      "metadata": {
        "id": "v4PiU5pDlYTy"
      },
      "outputs": [],
      "source": [
        "f = [1,0,1,-2]"
      ]
    },
    {
      "cell_type": "markdown",
      "source": [
        "Note that your implementation should be able to handle the array `f` of any size, which means it should be able to find the root of any given polynomial. But for testing purposes, you can use the array `f` given here.\n",
        "\n",
        "Next, you will need to create a user-defined function as follows\n",
        "```\n",
        "func(f, x)\n",
        "```\n",
        "This function will take the coefficent array `f` and a point `x` as input and evaluate the value of the function at that point x using a loop and return that value.\n",
        "\n",
        "This function will be called in the other function that you will implement, which is as follows:\n",
        "```\n",
        "newtonraphson(f, x_init, epsilon)\n",
        "```\n",
        "This function will return the root of the equation represented by the array `f` and in case it does not reach the root exactly then it will return the close enough value to the root that has an absolute Relative Approximate Error $|\\epsilon_a|$ of at most epsilon (%). Note that, here epsilon is the Relative Error Tolerance $\\epsilon_s$.\n",
        "\n",
        "You will also need a function to calculate the derivative $f'(x)$ at some value of $x$.\n",
        "```\n",
        "derivative(f, x)\n",
        "```"
      ],
      "metadata": {
        "id": "FEeCxr1emjvZ"
      }
    },
    {
      "cell_type": "markdown",
      "source": [
        "## Task 1: The Function"
      ],
      "metadata": {
        "id": "yrI-9lRlURuU"
      }
    },
    {
      "cell_type": "code",
      "source": [
        "# Write a function to return the value of the polynomial at the point x\n",
        "def func(f, x):\n",
        "  val=0\n",
        "  for i, coeff in enumerate(f):\n",
        "    val += coeff * (x ** (len(f) - 1 - i))\n",
        "  return val"
      ],
      "metadata": {
        "id": "TBQZObkwnibA"
      },
      "execution_count": null,
      "outputs": []
    },
    {
      "cell_type": "code",
      "source": [
        "print(func(f,2))\n",
        "print(func(f,3))\n",
        "print(func(f,5))"
      ],
      "metadata": {
        "id": "_pVoQb79okAY",
        "colab": {
          "base_uri": "https://localhost:8080/"
        },
        "outputId": "58c38386-a733-4183-bd6d-2d92f4b91e3f"
      },
      "execution_count": null,
      "outputs": [
        {
          "output_type": "stream",
          "name": "stdout",
          "text": [
            "8\n",
            "28\n",
            "128\n"
          ]
        }
      ]
    },
    {
      "cell_type": "markdown",
      "source": [
        "Sample Test Cases:\n",
        "<br>\n",
        "**Input**   $\\quad$    **Output**\n",
        "<br>\n",
        "2$\\quad\\quad\\quad$8\n",
        "<br>\n",
        "3$\\quad\\quad\\quad$28\n",
        "<br>\n",
        "5$\\quad\\quad\\quad$128"
      ],
      "metadata": {
        "id": "tXjwonJ-n4rJ"
      }
    },
    {
      "cell_type": "markdown",
      "source": [
        "## Task 2: The Derivative of the Function"
      ],
      "metadata": {
        "id": "7ybpO5_qUXjD"
      }
    },
    {
      "cell_type": "code",
      "source": [
        "# Write a function for evaluating the derivative of the polynomial given by array f\n",
        "def derivative(f, x):\n",
        "  val=0\n",
        "  for i, coeff in enumerate(f):\n",
        "    val += coeff *( len(f)-1-i)*(x ** (len(f) - 2 - i))\n",
        "  return val"
      ],
      "metadata": {
        "id": "xs05wv6vn38K"
      },
      "execution_count": null,
      "outputs": []
    },
    {
      "cell_type": "code",
      "source": [
        "print(derivative(f,2))\n",
        "print(derivative(f,3))\n",
        "print(derivative(f,5))"
      ],
      "metadata": {
        "id": "muMj9q40peBn",
        "colab": {
          "base_uri": "https://localhost:8080/"
        },
        "outputId": "d46e35e1-7509-4eb0-b33b-f50457d8923b"
      },
      "execution_count": null,
      "outputs": [
        {
          "output_type": "stream",
          "name": "stdout",
          "text": [
            "13.0\n",
            "28.0\n",
            "76.0\n"
          ]
        }
      ]
    },
    {
      "cell_type": "markdown",
      "source": [
        "Sample Test Cases:\n",
        "<br>\n",
        "**Input**   $\\quad$    **Output**\n",
        "<br>\n",
        "2$\\quad\\quad\\quad$13\n",
        "<br>\n",
        "3$\\quad\\quad\\quad$28\n",
        "<br>\n",
        "5$\\quad\\quad\\quad$76"
      ],
      "metadata": {
        "id": "VvfOhvHkpm7p"
      }
    },
    {
      "cell_type": "markdown",
      "source": [
        "## Task 3: The Algorithm\n",
        "Now, its time to implement the whole algorithm. Take the initial guess as $2$, the Relative Error Tolerance $\\epsilon_s$ as $0.01$, and the maximum number of iterations as $10000$."
      ],
      "metadata": {
        "id": "D6gwdUCmtDYA"
      }
    },
    {
      "cell_type": "code",
      "source": [
        "x_init = 2\n",
        "epsilon = 0.01\n",
        "MAX_ITERS=10000\n",
        "\n",
        "# Complete the following function\n",
        "def newtonraphson(f, x_init, epsilon):\n",
        "  x_next = x_init\n",
        "  for _ in range(MAX_ITERS):\n",
        "        f_x = func(f, x_next)\n",
        "        f_prime_x = derivative(f, x_next)\n",
        "        x_new = x_next - f_x / f_prime_x\n",
        "        if abs((x_new - x_next) / x_next) * 100 < epsilon:\n",
        "            return x_new\n",
        "        x_next = x_new\n",
        "  return x_next"
      ],
      "metadata": {
        "id": "GBhz25tbqdRI"
      },
      "execution_count": null,
      "outputs": []
    },
    {
      "cell_type": "code",
      "source": [
        "# Test your function here\n",
        "print(newtonraphson(f, x_init, epsilon))"
      ],
      "metadata": {
        "id": "ZHgH6HHwrB-w",
        "colab": {
          "base_uri": "https://localhost:8080/"
        },
        "outputId": "1ea51e80-941a-4cfd-cd3f-19649e4be195"
      },
      "execution_count": null,
      "outputs": [
        {
          "output_type": "stream",
          "name": "stdout",
          "text": [
            "1.0000000002185543\n"
          ]
        }
      ]
    },
    {
      "cell_type": "markdown",
      "source": [
        "The value should be very very close to $1$. (*e.g.* $1.0000170707310327$)<br>\n",
        "![image.png](data:image/png;base64,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)"
      ],
      "metadata": {
        "id": "75I9RPBirivH"
      }
    }
  ]
}